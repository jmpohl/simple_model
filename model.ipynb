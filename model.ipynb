{
 "cells": [
  {
   "cell_type": "code",
   "execution_count": null,
   "metadata": {},
   "outputs": [],
   "source": [
    "using JuMP\n",
    "using Plots\n",
    "using Distributions\n",
    "import HiGHS\n",
    "import Test\n",
    "\n",
    "\n",
    "using JLD\n",
    "using CSV\n",
    "using DataFrames\n",
    "using AxisArrays\n",
    "include(\"utils.jl\");"
   ]
  },
  {
   "cell_type": "code",
   "execution_count": null,
   "metadata": {},
   "outputs": [],
   "source": [
    "# sets\n",
    "const colors = [:blue, :green, :yellow, :orange, :red]\n",
    "const bins = 1:10\n",
    "const materials = 1:5;"
   ]
  },
  {
   "cell_type": "code",
   "execution_count": null,
   "metadata": {},
   "outputs": [],
   "source": [
    "# data\n",
    "# [x^3 *sin(y) for x in colors, y in materials]\n",
    "capacity = rand(1:20, length(bins))\n",
    "weight_data = rand(1:20, length(colors)*length(materials))\n",
    "profit_data = rand(1:20, length(colors)*length(bins))\n",
    "\n",
    "# parameters\n",
    "weight = parameter((materials, colors), weight_data)\n",
    "profit = parameter((colors, bins), profit_data);"
   ]
  },
  {
   "cell_type": "code",
   "execution_count": null,
   "metadata": {},
   "outputs": [],
   "source": [
    "plot(bar(capacity));"
   ]
  },
  {
   "cell_type": "code",
   "execution_count": null,
   "metadata": {},
   "outputs": [],
   "source": [
    "plot(surface(weight));"
   ]
  },
  {
   "cell_type": "code",
   "execution_count": null,
   "metadata": {},
   "outputs": [],
   "source": [
    "plot(surface(profit));"
   ]
  },
  {
   "cell_type": "code",
   "execution_count": null,
   "metadata": {},
   "outputs": [],
   "source": [
    "function run_model()\n",
    "    \n",
    "    model = Model(HiGHS.Optimizer)\n",
    "    set_silent(model)\n",
    "    @variable(model, x[materials,colors,bins], Bin)\n",
    "    \n",
    "    # Objective: maximize profit \n",
    "    @objective(model, Max, \n",
    "        sum(profit[c,b]*x[m,c,b] for m in materials, c in colors, b in bins))\n",
    "    \n",
    "    # Constraint: can carry all\n",
    "    @constraint(model, test[b in bins],\n",
    "        sum(weight[m,c] * x[m,c,b] for m in materials, c in colors) <= capacity[b])\n",
    "    \n",
    "    # Solve problem using MIP solver\n",
    "    optimize!(model)\n",
    "    return value.(x)\n",
    "end"
   ]
  },
  {
   "cell_type": "code",
   "execution_count": null,
   "metadata": {},
   "outputs": [],
   "source": [
    "x = run_model();"
   ]
  },
  {
   "cell_type": "code",
   "execution_count": null,
   "metadata": {},
   "outputs": [],
   "source": [
    "sol = []\n",
    "labels = String[]\n",
    "n = 1\n",
    "for m in materials, c in colors, b in bins \n",
    "    if x[m,c,b] == 1\n",
    "        push!(sol, profit[c,b]/weight[m,c])\n",
    "        push!(labels, \"$(m)_$(c)_$(b)\")\n",
    "        n = n+1\n",
    "    end\n",
    "end\n",
    "\n",
    "df = sort(DataFrame(x=sol, y=labels))\n",
    "labels = df[!,:y] \n",
    "\n",
    "plot(bar(df[!,:x], label=false))\n",
    "xticks!(1:length(df[!,:y]), df[!,:y])"
   ]
  }
 ],
 "metadata": {
  "@webio": {
   "lastCommId": null,
   "lastKernelId": null
  },
  "kernelspec": {
   "display_name": "Julia 1.7",
   "language": "julia",
   "name": "julia-1.7"
  },
  "language_info": {
   "file_extension": ".jl",
   "mimetype": "application/julia",
   "name": "julia",
   "version": "1.7.0"
  },
  "latex_envs": {
   "LaTeX_envs_menu_present": true,
   "autoclose": false,
   "autocomplete": true,
   "bibliofile": "biblio.bib",
   "cite_by": "apalike",
   "current_citInitial": 1,
   "eqLabelWithNumbers": true,
   "eqNumInitial": 1,
   "hotkeys": {
    "equation": "Ctrl-E",
    "itemize": "Ctrl-I"
   },
   "labels_anchors": false,
   "latex_user_defs": false,
   "report_style_numbering": false,
   "user_envs_cfg": false
  }
 },
 "nbformat": 4,
 "nbformat_minor": 1
}
